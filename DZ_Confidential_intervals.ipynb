{
 "cells": [
  {
   "cell_type": "markdown",
   "id": "irish-department",
   "metadata": {},
   "source": [
    "# Домашнее задание"
   ]
  },
  {
   "cell_type": "markdown",
   "id": "silent-pollution",
   "metadata": {},
   "source": [
    "# Задание № 0\n",
    "\n",
    "Найдите минимально необходимый объем выборки для построения интервальной оценки среднего.\n",
    "\n",
    "- желаемая точность  = 3;\n",
    "- дисперсия   = 225;\n",
    "- уровень доверия  = 0.95."
   ]
  },
  {
   "cell_type": "code",
   "execution_count": 1,
   "id": "sacred-letter",
   "metadata": {},
   "outputs": [],
   "source": [
    "import numpy as np\n",
    "import pandas as pd\n",
    "import scipy.stats # При работе со статистикой\n",
    "import matplotlib.pyplot as plt\n",
    "import scipy as sp\n",
    "from scipy import stats\n",
    "from scipy.stats import chi2_contingency"
   ]
  },
  {
   "cell_type": "code",
   "execution_count": 2,
   "id": "owned-finder",
   "metadata": {},
   "outputs": [
    {
     "name": "stdout",
     "output_type": "stream",
     "text": [
      "минимально необходимы объем выборки 125.552025\n"
     ]
    }
   ],
   "source": [
    "Delta = 3 # точность интервальной оценки\n",
    "# уровень доверия = 0.95, соответственно уровень значимости a = 0,05, соответственно квантиль при уровне 1-a/2  Za = 2.241\n",
    "Z = 2.241 \n",
    "D = 225 # Дисперсия\n",
    "sigma = D** .5 # стандартное отклонение\n",
    "N = ((sigma*Z)/Delta)**2\n",
    "print (f'минимально необходимы объем выборки {N}')"
   ]
  },
  {
   "cell_type": "markdown",
   "id": "minimal-reference",
   "metadata": {},
   "source": [
    "# Задание № 1\n",
    "\n",
    "Постройте `98% доверительный интервал` для среднего значения, если известно, что\n",
    "\n",
    "- объем выборки n = 25;\n",
    "- среднее значение по выборке $\\overline x$ = 130;\n",
    "- Из достоверных источников известно стандартное отклонение $\\sigma = 12$.\n",
    "</div>"
   ]
  },
  {
   "cell_type": "code",
   "execution_count": 3,
   "id": "unexpected-supplier",
   "metadata": {},
   "outputs": [
    {
     "name": "stdout",
     "output_type": "stream",
     "text": [
      "(124.03574277901446, 130, 135.96425722098553)\n"
     ]
    }
   ],
   "source": [
    "def confidence_interval(n, m,sigma, confidence=0.98):\n",
    "    Z = scipy.stats.t.ppf((1 + confidence)/2, n) #   квантиль при уровне 1-a/2 где a = 1-confidence\n",
    "    Delta = (sigma/(n** .5))*Z\n",
    "    return m-Delta, m, m+Delta\n",
    "\n",
    "print(confidence_interval(25,130,12))"
   ]
  },
  {
   "cell_type": "markdown",
   "id": "steady-directive",
   "metadata": {},
   "source": [
    "# Задание № 2\n",
    "Даны две выборки роста мужчин и женщин.\n",
    "\n",
    "Докажите, используя t-Тест Стьдента, что различие между выборками незначительно, если уровень значимости равен  𝛼  = 0.001.\n",
    "Покажите различия визуально"
   ]
  },
  {
   "cell_type": "code",
   "execution_count": 4,
   "id": "upset-printer",
   "metadata": {},
   "outputs": [
    {
     "data": {
      "text/plain": [
       "Ttest_indResult(statistic=1.1722712942137945, pvalue=0.24111137098987193)"
      ]
     },
     "execution_count": 4,
     "metadata": {},
     "output_type": "execute_result"
    }
   ],
   "source": [
    "import scipy.stats as stats\n",
    "np.random.seed(21)  # Загрепим seed для воспроизводимости результата\n",
    "population_men  = stats.norm.rvs(loc=19, scale=171, size=11000000)  # Выборка мужчин со средним ростом 171\n",
    "population_women = stats.norm.rvs(loc=16, scale=165, size=12000)   # Выборка женщин со средним ростом 165\n",
    "# stats.ttest_ind(population_men, population_women)\n",
    "stats.ttest_ind(population_men, population_women, equal_var = False)"
   ]
  },
  {
   "cell_type": "code",
   "execution_count": 5,
   "id": "spanish-rebound",
   "metadata": {},
   "outputs": [
    {
     "data": {
      "image/png": "[encoded data removed]",
      "text/plain": [
       "<Figure size 432x288 with 1 Axes>"
      ]
     },
     "metadata": {
      "needs_background": "light"
     },
     "output_type": "display_data"
    }
   ],
   "source": [
    "\"\"\"pvalue=0.24111137098987193 > 0.001 , соответственно аргументов не достаточно, \n",
    "что бы отвергнуть нулевую гипотезу о незначительном различии м/у выборками, \n",
    "соответственно Не отвергая нулевую гипотезу, можно заявить различие между выборками незначительно\"\"\"\n",
    "plt.hist(population_men, bins=25, color='g'); # Выборка мужчин со средним ростом 171"
   ]
  },
  {
   "cell_type": "code",
   "execution_count": 6,
   "id": "suffering-assessment",
   "metadata": {},
   "outputs": [
    {
     "data": {
      "image/png": "[encoded data removed]",
      "text/plain": [
       "<Figure size 432x288 with 1 Axes>"
      ]
     },
     "metadata": {
      "needs_background": "light"
     },
     "output_type": "display_data"
    }
   ],
   "source": [
    "plt.hist(population_women, bins=25, color='r');  # Выборка женщин со средним ростом 165"
   ]
  },
  {
   "cell_type": "markdown",
   "id": "expensive-match",
   "metadata": {},
   "source": [
    "# Задание № 3\n",
    "Определите объем необходимой выборки для исследования среднего чека за кофе в случайном городе, если известно, что в этом городе стандартное отклонение = 150, уровень доверия = 95%. Погрешность 50 рублей.¶"
   ]
  },
  {
   "cell_type": "markdown",
   "id": "contained-recorder",
   "metadata": {},
   "source": [
    "Определите объем необходимой выборки для исследования среднего чека за кофе в случайном городе если известно, что в этом городе:\n",
    "\n",
    "- стандартное отклонение $\\sigma = 150$;\n",
    "- уровень доверия $\\beta$  = 95%;\n",
    "- Погрешность $\\Delta = 50$ рублей.\n",
    "</div>"
   ]
  },
  {
   "cell_type": "code",
   "execution_count": 7,
   "id": "generic-framework",
   "metadata": {},
   "outputs": [
    {
     "name": "stdout",
     "output_type": "stream",
     "text": [
      "минимально необходимы объем выборки 45.19872900000001\n"
     ]
    }
   ],
   "source": [
    "Delta = 50 # Погрешность\n",
    "# уровень доверия = 0.95, соответственно уровень значимости a = 0,05, соответственно квантиль при уровне 1-a/2  Za = 2.241\n",
    "Z = 2.241 \n",
    "sigma = 150 # стандартное отклонение\n",
    "N = ((sigma*Z)/Delta)**2\n",
    "print (f'минимально необходимы объем выборки {N}')"
   ]
  },
  {
   "cell_type": "markdown",
   "id": "unlike-forest",
   "metadata": {},
   "source": [
    "# Задание № 4\n",
    "\n",
    "Представьте, что вы хотите разоблачить \"волшебника\" который считает, что умеет предсказывать погоду на завтра, отвечая просто: дождь или солнце. Вы пронаблюдали за ответами \"волшебника\" в течении какого-то периода времени и получили некие результаты (см.ниже).\n",
    "\n",
    "Можно ли сказать, что маг действительно умеет предсказывать погоду? Уровень значимости принять за `0.05`\n"
   ]
  },
  {
   "cell_type": "code",
   "execution_count": 8,
   "id": "inclusive-broadcast",
   "metadata": {},
   "outputs": [
    {
     "data": {
      "text/html": [
       "<div>\n",
       "<style scoped>\n",
       "    .dataframe tbody tr th:only-of-type {\n",
       "        vertical-align: middle;\n",
       "    }\n",
       "\n",
       "    .dataframe tbody tr th {\n",
       "        vertical-align: top;\n",
       "    }\n",
       "\n",
       "    .dataframe thead th {\n",
       "        text-align: right;\n",
       "    }\n",
       "</style>\n",
       "<table border=\"1\" class=\"dataframe\">\n",
       "  <thead>\n",
       "    <tr style=\"text-align: right;\">\n",
       "      <th></th>\n",
       "      <th>Ответ волшебника</th>\n",
       "      <th>Реальность</th>\n",
       "    </tr>\n",
       "  </thead>\n",
       "  <tbody>\n",
       "    <tr>\n",
       "      <th>Дождь</th>\n",
       "      <td>10</td>\n",
       "      <td>15</td>\n",
       "    </tr>\n",
       "    <tr>\n",
       "      <th>Солнце</th>\n",
       "      <td>39</td>\n",
       "      <td>34</td>\n",
       "    </tr>\n",
       "  </tbody>\n",
       "</table>\n",
       "</div>"
      ],
      "text/plain": [
       "        Ответ волшебника  Реальность\n",
       "Дождь                 10          15\n",
       "Солнце                39          34"
      ]
     },
     "execution_count": 8,
     "metadata": {},
     "output_type": "execute_result"
    }
   ],
   "source": [
    "observations = pd.DataFrame([[10,15],[39,34]],\n",
    "                            index=['Дождь','Солнце'],\n",
    "                            columns=['Ответ волшебника','Реальность'])\n",
    "observations"
   ]
  },
  {
   "cell_type": "code",
   "execution_count": 9,
   "id": "bibliographic-backup",
   "metadata": {},
   "outputs": [
    {
     "name": "stdout",
     "output_type": "stream",
     "text": [
      "p-value is:  0.35396880166541644\n"
     ]
    },
    {
     "data": {
      "text/plain": [
       "0.8591780821917808"
      ]
     },
     "execution_count": 9,
     "metadata": {},
     "output_type": "execute_result"
    }
   ],
   "source": [
    "chi, pval, dof, exp = scipy.stats.chi2_contingency(observations)\n",
    "print('p-value is: ', pval)\n",
    "significance = 0.05\n",
    "p = 1 - significance\n",
    "critical_value = scipy.stats.chi2.ppf(p, dof)\n",
    "chi"
   ]
  },
  {
   "cell_type": "code",
   "execution_count": 40,
   "id": "forced-station",
   "metadata": {},
   "outputs": [
    {
     "data": {
      "text/plain": [
       "3.841458820694124"
      ]
     },
     "execution_count": 40,
     "metadata": {},
     "output_type": "execute_result"
    }
   ],
   "source": [
    "critical_value"
   ]
  },
  {
   "cell_type": "code",
   "execution_count": 10,
   "id": "waiting-violin",
   "metadata": {},
   "outputs": [
    {
     "name": "stdout",
     "output_type": "stream",
     "text": [
      "chi=0.859178, критическое значение=3.841459\n",
      "\n"
     ]
    }
   ],
   "source": [
    "print('chi=%.6f, критическое значение=%.6f\\n' % (chi, critical_value))"
   ]
  },
  {
   "cell_type": "code",
   "execution_count": 39,
   "id": "featured-party",
   "metadata": {},
   "outputs": [
    {
     "name": "stdout",
     "output_type": "stream",
     "text": [
      "На 0.05 уровене значимости, мы принимаем нулевые гипотезы. \n",
      "         У нас нет достаточных доказательств, чтобы утверждать, что маг умеет предсказывать погоду\n"
     ]
    }
   ],
   "source": [
    "if chi > critical_value:\n",
    "    print(\"\"\"На %.2f уровене значимости, мы отвергаем нулевые гипотезы и принимаем H1.\n",
    "        Они не независимы. Маг действительно умеет предсказывать погоду\"\"\" % (significance))\n",
    "else:\n",
    "    print(\"\"\"На %.2f уровене значимости, мы принимаем нулевые гипотезы. \n",
    "         У нас нет достаточных доказательств, чтобы утверждать, что маг умеет предсказывать погоду\"\"\" % (significance))"
   ]
  },
  {
   "cell_type": "code",
   "execution_count": 12,
   "id": "designed-memory",
   "metadata": {},
   "outputs": [
    {
     "name": "stdout",
     "output_type": "stream",
     "text": [
      "На 0.05 уровене значимости, мы принимаем нулевые гипотезы. \n",
      "         У нас нет достаточных доказательств, чтобы утверждать, что маг меет предсказывать погоду\n"
     ]
    }
   ],
   "source": [
    "oddsratio, pvalue = stats.fisher_exact(observations)\n",
    "oddsratio, pvalue\n",
    "if pvalue < significance:\n",
    "    print(\"\"\"На %.2f уровене значимости, мы отвергаем нулевые гипотезы и принимаем H1.\n",
    "        Они не независимы. Маг действительно умеет предсказывать погоду\"\"\" % (significance))\n",
    "else:\n",
    "    print(\"\"\"На %.2f уровене значимости, мы принимаем нулевые гипотезы. \n",
    "         У нас нет достаточных доказательств, чтобы утверждать, что маг меет предсказывать погоду\"\"\" % (significance))"
   ]
  },
  {
   "cell_type": "markdown",
   "id": "statewide-sussex",
   "metadata": {},
   "source": [
    "# Задание № 5\n",
    "\n",
    "Используя функцию mean_confidence_interval(data, confidence), постройте доверительный интервал с уровнем доверия $\\beta = 90\\%$ для выборки:\n"
   ]
  },
  {
   "cell_type": "code",
   "execution_count": 13,
   "id": "automatic-tonight",
   "metadata": {},
   "outputs": [],
   "source": [
    "data = [4,5,8,9,6,7,5,6,7,8,5,6,7,0,9,8,4,6,\n",
    "        7,9,8,6,5,7,8,9,6,7,5,8,6,7,9,5,10]"
   ]
  },
  {
   "cell_type": "code",
   "execution_count": 14,
   "id": "incorporate-compromise",
   "metadata": {},
   "outputs": [],
   "source": [
    "#Вспомогательная функция для подсчета доверительного интервала\n",
    "\n",
    "def mean_confidence_interval(data, confidence=0.90):   \n",
    "    n = len(data)\n",
    "    m, se = np.mean(data), scipy.stats.sem(data)\n",
    "    h = se * scipy.stats.t.ppf((1 + confidence)/2, n)  #  функция ppf из scipy возвращает нам перцентиль\n",
    "    return m-h, m, m+h  #,h"
   ]
  },
  {
   "cell_type": "code",
   "execution_count": 15,
   "id": "intended-maximum",
   "metadata": {},
   "outputs": [
    {
     "name": "stdout",
     "output_type": "stream",
     "text": [
      "(6.074074746111319, 6.628571428571429, 7.183068111031539)\n"
     ]
    }
   ],
   "source": [
    "print(mean_confidence_interval(data, 0.90))"
   ]
  },
  {
   "cell_type": "markdown",
   "id": "sensitive-paste",
   "metadata": {},
   "source": [
    "# Задание № 6\n",
    "\n",
    "Принадлежат ли выборки data_1 и data_2 одному множеству? \n",
    "    \n",
    "- Оцените это с помощью известных вам тестов для проверок статистических гипотез;\n",
    "- Покажите различия визуально.\n"
   ]
  },
  {
   "cell_type": "code",
   "execution_count": 16,
   "id": "young-mouth",
   "metadata": {},
   "outputs": [],
   "source": [
    "data_1 = [4,5,8,9,6,7,5,6,7,8,5,6,7,0,9,8,4,\n",
    "          6,7,9,8,6,5,7,8,9,6,7,5,8,6,7,9,5,10]\n",
    "\n",
    "data_2 = [8,5,6,7,0,1,8,4,6,7,0,2,6,5,7,5,3,5,3,\n",
    "          5,3,5,5,8,7,6,4,5,3,5,4,6,4,5,3,2,6,4,\n",
    "          2,6,1,0,4,3,5,4,3,4,5,4,3,4,5,4,3,4,5,\n",
    "          3,4,4,1,2,4,3,1,2,4,3,2,1,5,3,4,6,4,5,\n",
    "          3,2,4,5,6,4,3,1,3,5,3,4,4,4,2,5,3]"
   ]
  },
  {
   "cell_type": "code",
   "execution_count": 17,
   "id": "complete-victorian",
   "metadata": {},
   "outputs": [
    {
     "name": "stdout",
     "output_type": "stream",
     "text": [
      "t = 7.068404675178226\n",
      "p = 2.4974180382616264e-09\n"
     ]
    }
   ],
   "source": [
    "t , p  = stats.ttest_ind(data_1, data_2,  equal_var = False)\n",
    "print(\"t = \" + str(t))\n",
    "print(\"p = \" + str(p))                         "
   ]
  },
  {
   "cell_type": "code",
   "execution_count": 18,
   "id": "defensive-combining",
   "metadata": {},
   "outputs": [
    {
     "data": {
      "image/png": "[encoded data removed]",
      "text/plain": [
       "<Figure size 432x288 with 1 Axes>"
      ]
     },
     "metadata": {
      "needs_background": "light"
     },
     "output_type": "display_data"
    }
   ],
   "source": [
    "# Большое значение t-score= 7.068404675178226 говорит нам, что группы отличаются\n",
    "# p_value=2.4974180382616264e-09 < 0.05 , соответственно аргументов достаточно, \n",
    "# таким образом, мы отклоняем нулевую гипотезу и, таким образом,\n",
    "# это доказывает, что средние значения двух распределений различны и различие статистически значимо.\n",
    "plt.hist(data_1, bins=25); \n",
    "plt.hist(data_2, bins=25);"
   ]
  },
  {
   "cell_type": "markdown",
   "id": "comic-environment",
   "metadata": {},
   "source": [
    "# Задание № 7 \n",
    "(задание без подвоха)\n",
    "На примере датасета про жилье в New York City, мы сталкивались с примером, когда переменная имеет не совсем нормальное распределение.\n",
    "\n",
    "Предположим, Вы сформировали две гипотезы:\n",
    "нулевая гипотеза - распределение нормальное;\n",
    "альтернативная гипотеза - распределение ненормальное.\n",
    "допустим, вы применили какой-то тест (сейчас неважно какой), который показал уровень значимости p-value = 0.03. Каковы будут ваши выводы? Будем считать что у нас нормальное распределение или все-таки нет?)"
   ]
  },
  {
   "cell_type": "code",
   "execution_count": 19,
   "id": "sudden-ancient",
   "metadata": {},
   "outputs": [
    {
     "data": {
      "text/plain": [
       "'Ответ: так как p-value = 0.03 < 0,05 ,  \\nтаким образом, мы отклоняем нулевую гипотезу и это доказывает  - распределение нормальное '"
      ]
     },
     "execution_count": 19,
     "metadata": {},
     "output_type": "execute_result"
    }
   ],
   "source": [
    "\"\"\"Ответ: так как p-value = 0.03 < 0,05 ,  \n",
    "таким образом, мы отклоняем нулевую гипотезу и это доказывает  - распределение нормальное \"\"\""
   ]
  },
  {
   "cell_type": "markdown",
   "id": "removable-brush",
   "metadata": {},
   "source": [
    "# Задание № 8\n",
    "    \n",
    "Первая выборка — это пациенты, которых лечили препаратом `А`.  Вторая выборка — пациенты, которых лечили препаратом `B`.\n",
    "\n",
    "Значения в выборках — это некоторая характеристика эффективности лечения (уровень метаболита в крови, температура через три дня после начала лечения, срок выздоровления, число койко-дней, и т.д.) \n",
    "\n",
    "- Требуется выяснить, имеется ли значимое различие эффективности препаратов `А` и `B`, или различия являются чисто случайными и объясняются «естественной» дисперсией выбранной характеристики?  (`уровень значимости принять за 0.05 (5%)`)\n",
    "\n",
    "- При каком минимальном p-value различия были бы уже значимы? \n",
    "    \n",
    "- Если выборки незначительно отличаются, то продемонстрируйте это визуально"
   ]
  },
  {
   "cell_type": "code",
   "execution_count": 20,
   "id": "magnetic-legend",
   "metadata": {},
   "outputs": [],
   "source": [
    "np.random.seed(11)\n",
    "A = stats.norm.rvs(scale=50,loc=10,size=300)\n",
    "B = A+stats.norm.rvs(scale=10,loc=-7.5,size=300)"
   ]
  },
  {
   "cell_type": "code",
   "execution_count": null,
   "id": "opposite-huntington",
   "metadata": {},
   "outputs": [],
   "source": [
    "\"\"\"Нулевая гипотеза - значимых различий м/у эффективностью препарата А и В нет\n",
    "   Альтеранативная гипотеза - имеется значимое различие эффективности препаратов А и B\"\"\""
   ]
  },
  {
   "cell_type": "code",
   "execution_count": 21,
   "id": "charming-writing",
   "metadata": {},
   "outputs": [
    {
     "data": {
      "text/plain": [
       "48.3021318445119"
      ]
     },
     "execution_count": 21,
     "metadata": {},
     "output_type": "execute_result"
    }
   ],
   "source": [
    "A.std()"
   ]
  },
  {
   "cell_type": "code",
   "execution_count": 32,
   "id": "expanded-anger",
   "metadata": {},
   "outputs": [
    {
     "data": {
      "text/plain": [
       "9.988742616116626"
      ]
     },
     "execution_count": 32,
     "metadata": {},
     "output_type": "execute_result"
    }
   ],
   "source": [
    "A.mean()"
   ]
  },
  {
   "cell_type": "code",
   "execution_count": 28,
   "id": "associate-effects",
   "metadata": {},
   "outputs": [
    {
     "data": {
      "text/plain": [
       "50.110935919381795"
      ]
     },
     "execution_count": 28,
     "metadata": {},
     "output_type": "execute_result"
    }
   ],
   "source": [
    "B.std()"
   ]
  },
  {
   "cell_type": "code",
   "execution_count": 34,
   "id": "moral-standing",
   "metadata": {},
   "outputs": [
    {
     "data": {
      "text/plain": [
       "2.4025645142681946"
      ]
     },
     "execution_count": 34,
     "metadata": {},
     "output_type": "execute_result"
    }
   ],
   "source": [
    "B.mean()"
   ]
  },
  {
   "cell_type": "code",
   "execution_count": 36,
   "id": "fluid-frequency",
   "metadata": {},
   "outputs": [
    {
     "name": "stdout",
     "output_type": "stream",
     "text": [
      "(3.4666012009811684, 9.9887, 16.51079879901883)\n"
     ]
    }
   ],
   "source": [
    "print(confidence_interval(300,9.9887,48.3))"
   ]
  },
  {
   "cell_type": "code",
   "execution_count": 37,
   "id": "regular-charity",
   "metadata": {},
   "outputs": [
    {
     "name": "stdout",
     "output_type": "stream",
     "text": [
      "(-4.36390871260525, 2.4026, 9.16910871260525)\n"
     ]
    }
   ],
   "source": [
    "print(confidence_interval(300,2.4026,50.11))"
   ]
  },
  {
   "cell_type": "code",
   "execution_count": 22,
   "id": "executed-denial",
   "metadata": {},
   "outputs": [
    {
     "data": {
      "text/plain": [
       "6.195653565192412"
      ]
     },
     "execution_count": 22,
     "metadata": {},
     "output_type": "execute_result"
    }
   ],
   "source": [
    "all_patients=np.concatenate((A,B))\n",
    "all_patients.mean()"
   ]
  },
  {
   "cell_type": "code",
   "execution_count": 23,
   "id": "demographic-flavor",
   "metadata": {},
   "outputs": [
    {
     "data": {
      "text/plain": [
       "Ttest_indResult(statistic=1.8847229265385363, pvalue=0.05995194857529052)"
      ]
     },
     "execution_count": 23,
     "metadata": {},
     "output_type": "execute_result"
    }
   ],
   "source": [
    "stats.ttest_ind(A,B)"
   ]
  },
  {
   "cell_type": "code",
   "execution_count": 38,
   "id": "increased-japan",
   "metadata": {},
   "outputs": [
    {
     "data": {
      "text/plain": [
       "'Достачных оснований для утверждения, что между препаратами А и В есть значимые различия мы не имеем\\nтак как pvalue=0.05995194857529052 > уроня значимости 0.05. Существует 5,9 % ,что  различия являются чисто случайными \\nи объясняются «естественной» дисперсией выбранной характеристики.\\nПри минимальном pvalue = 0,05, различиябыли бы уже значимы'"
      ]
     },
     "execution_count": 38,
     "metadata": {},
     "output_type": "execute_result"
    }
   ],
   "source": [
    "\"\"\"Достачных оснований для утверждения, что между препаратами А и В есть значимые различия мы не имеем\n",
    "так как pvalue=0.05995194857529052 > уровня значимости 0.05. Существует 5,9 % вероятности,что  различия являются чисто случайными \n",
    "и объясняются «естественной» дисперсией выбранной характеристики.\n",
    "При минимальном pvalue = 0,05, различия были бы уже значимы\"\"\""
   ]
  },
  {
   "cell_type": "code",
   "execution_count": 25,
   "id": "ambient-correction",
   "metadata": {},
   "outputs": [
    {
     "data": {
      "image/png": "[encoded data removed]",
      "text/plain": [
       "<Figure size 432x288 with 1 Axes>"
      ]
     },
     "metadata": {
      "needs_background": "light"
     },
     "output_type": "display_data"
    }
   ],
   "source": [
    "plt.hist(A, bins=200);\n",
    "plt.hist(B, bins=200);"
   ]
  },
  {
   "cell_type": "code",
   "execution_count": 26,
   "id": "random-motel",
   "metadata": {},
   "outputs": [
    {
     "data": {
      "image/png": "[encoded data removed]",
      "text/plain": [
       "<Figure size 432x288 with 1 Axes>"
      ]
     },
     "metadata": {
      "needs_background": "light"
     },
     "output_type": "display_data"
    }
   ],
   "source": [
    "plt.hist(A, bins=200);\n",
    "plt.hist(all_patients, bins=200);"
   ]
  },
  {
   "cell_type": "code",
   "execution_count": 27,
   "id": "competitive-jimmy",
   "metadata": {},
   "outputs": [
    {
     "data": {
      "text/plain": [
       "Ttest_indResult(statistic=-1.1009228581713186, pvalue=0.27136494270817024)"
      ]
     },
     "execution_count": 27,
     "metadata": {},
     "output_type": "execute_result"
    }
   ],
   "source": [
    "stats.ttest_ind(all_patients, A, equal_var=False)"
   ]
  }
 ],
 "metadata": {
  "kernelspec": {
   "display_name": "Python 3",
   "language": "python",
   "name": "python3"
  },
  "language_info": {
   "codemirror_mode": {
    "name": "ipython",
    "version": 3
   },
   "file_extension": ".py",
   "mimetype": "text/x-python",
   "name": "python",
   "nbconvert_exporter": "python",
   "pygments_lexer": "ipython3",
   "version": "3.8.5"
  }
 },
 "nbformat": 4,
 "nbformat_minor": 5
}
